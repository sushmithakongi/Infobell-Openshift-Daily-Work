{
 "cells": [
  {
   "cell_type": "code",
   "execution_count": 4,
   "id": "402fdf3a",
   "metadata": {},
   "outputs": [
    {
     "name": "stdout",
     "output_type": "stream",
     "text": [
      "Element is present at index 3\n"
     ]
    }
   ],
   "source": [
    "# Write a code for Binary Search\n",
    "\n",
    "# Iterative Binary Search Function\n",
    "# It returns index of x in given array arr if present,\n",
    "# else returns -1\n",
    "def binary_search(arr, x):\n",
    "    low = 0\n",
    "    high = len(arr) - 1\n",
    "    mid = 0\n",
    "\n",
    "    while low <= high:\n",
    "\n",
    "        mid = (high + low) // 2\n",
    "\n",
    "        # If x is greater, ignore left half\n",
    "        if arr[mid] < x:\n",
    "            low = mid + 1\n",
    "\n",
    "        # If x is smaller, ignore right half\n",
    "        elif arr[mid] > x:\n",
    "            high = mid - 1\n",
    "\n",
    "        # means x is present at mid\n",
    "        else:\n",
    "            return mid\n",
    "\n",
    "    # If we reach here, then the element was not present\n",
    "    return -1\n",
    "\n",
    "\n",
    "# Test array\n",
    "arr = [ 2, 3, 4, 80, 40 ]\n",
    "x = 80\n",
    "\n",
    "# Function call\n",
    "result = binary_search(arr, x)\n",
    "\n",
    "if result != -1:\n",
    "    print(\"Element is present at index\", str(result))\n",
    "else:\n",
    "    print(\"Element is not present in array\")\n"
   ]
  },
  {
   "cell_type": "code",
   "execution_count": 5,
   "id": "86519f9e",
   "metadata": {},
   "outputs": [
    {
     "name": "stdout",
     "output_type": "stream",
     "text": [
      "[1, 2, 3, 5, 6]\n"
     ]
    }
   ],
   "source": [
    "# Write a program in Python to execute the Bubble sort algorithm.\n",
    "\n",
    "def bs(l1):\n",
    "    for i in range(len(l1)):\n",
    "        for j in range(len(l1)-1):\n",
    "            if l1[j]>l1[j+1]:\n",
    "                l1[j],l1[j+1]=l1[j+1],l1[j]\n",
    "    return l1\n",
    "\n",
    "l1=[5,3,2,6,1]\n",
    "print(bs(l1))"
   ]
  },
  {
   "cell_type": "code",
   "execution_count": 22,
   "id": "8d61ef60",
   "metadata": {},
   "outputs": [
    {
     "name": "stdout",
     "output_type": "stream",
     "text": [
      "     *\n",
      "    * *\n",
      "   * * *\n",
      "  * * * *\n",
      " * * * * *\n"
     ]
    }
   ],
   "source": [
    "# Write a program in Python to produce Star triangle.\n",
    "\n",
    "def pyra(r):\n",
    "    for x in range(1,r+1):\n",
    "        print(' '*(r-x)+' *'*(x))\n",
    "\n",
    "pyra(5)"
   ]
  },
  {
   "cell_type": "code",
   "execution_count": 33,
   "id": "8468720e",
   "metadata": {},
   "outputs": [
    {
     "name": "stdout",
     "output_type": "stream",
     "text": [
      "Enter the terms: 7\n",
      "0 1 1 2 3 5 8 "
     ]
    }
   ],
   "source": [
    "# Write a program to produce Fibonacci series in Python.\n",
    "\n",
    "a=int(input(\"Enter the terms: \"))\n",
    "f=0\n",
    "s=1\n",
    "if a<=0:\n",
    "    print(\"The requested series is\",f)\n",
    "else:\n",
    "    print(f,s,end=\" \")\n",
    "    for x in range(2,a):\n",
    "        next1=f+s\n",
    "        print(next1,end=\" \")\n",
    "        f=s\n",
    "        s=next1"
   ]
  },
  {
   "cell_type": "code",
   "execution_count": 12,
   "id": "6585ed4c",
   "metadata": {},
   "outputs": [
    {
     "name": "stdout",
     "output_type": "stream",
     "text": [
      "Enter Any Number: 73\n",
      "73 is a Prime Number.\n"
     ]
    }
   ],
   "source": [
    "# Write a program in Python to check if a number is prime\n",
    "\n",
    "n=int(input(\"Enter Any Number: \"))\n",
    "if n>1:\n",
    "    for i in range(2, (n//2)+1):\n",
    "        if n%i==0:\n",
    "            print(\"{} is Not a Prime Number.\".format(n))\n",
    "            break\n",
    "    if i==(n//2):\n",
    "        print(\"{} is a Prime Number.\".format(n))\n",
    "            \n",
    "else:\n",
    "    print(\"1 is Not a Prime Number.\")"
   ]
  },
  {
   "cell_type": "code",
   "execution_count": 20,
   "id": "2292a6f6",
   "metadata": {},
   "outputs": [
    {
     "name": "stdout",
     "output_type": "stream",
     "text": [
      "Enter any sequence: 121\n",
      "121 is Palindrome.\n"
     ]
    }
   ],
   "source": [
    "# Write a program in Python to check if a sequence is a Palindrome.\n",
    "\n",
    "s1=input(\"Enter any sequence: \")\n",
    "if s1==s1[::-1]:\n",
    "    print(\"{} is Palindrome.\".format(s1))\n",
    "else:\n",
    "    print(\"{} is Not Palindrome.\".format(s1))"
   ]
  },
  {
   "cell_type": "code",
   "execution_count": 24,
   "id": "d8d79fb2",
   "metadata": {},
   "outputs": [
    {
     "name": "stdout",
     "output_type": "stream",
     "text": [
      "Enter any String: RajKumar\n",
      "The total number of Capital Letters in given String are 2\n"
     ]
    }
   ],
   "source": [
    "# Write a one-liner that will count the number of capital letters in a String.\n",
    "\n",
    "s1=input(\"Enter any String: \")\n",
    "count=0\n",
    "for i in s1:\n",
    "    if i.isupper():\n",
    "        count+=1\n",
    "print(\"The total number of Capital Letters in given String are {}\".format(count))"
   ]
  },
  {
   "cell_type": "code",
   "execution_count": 25,
   "id": "60846dac",
   "metadata": {},
   "outputs": [
    {
     "name": "stdout",
     "output_type": "stream",
     "text": [
      "[1, 3, 3, 5, 6, 7]\n"
     ]
    }
   ],
   "source": [
    "# Write a sorting algorithm for a numerical dataset in Python.\n",
    "\n",
    "l1=[3,5,6,7,1,3]\n",
    "for i in range(len(l1)):\n",
    "    for j in range(len(l1)-1):\n",
    "        if l1[j]>l1[j+1]:\n",
    "            l1[j],l1[j+1]=l1[j+1],l1[j]\n",
    "print(l1)"
   ]
  },
  {
   "cell_type": "code",
   "execution_count": 27,
   "id": "4380efe2",
   "metadata": {},
   "outputs": [
    {
     "name": "stdout",
     "output_type": "stream",
     "text": [
      "[1, 3, 3, 5, 6, 7]\n"
     ]
    }
   ],
   "source": [
    "# Write a sorting algorithm for a numerical dataset in Python.\n",
    "\n",
    "l1=[3,5,6,7,1,3]\n",
    "l2=[]\n",
    "l2=sorted(l1)\n",
    "print(l2)"
   ]
  },
  {
   "cell_type": "code",
   "execution_count": 34,
   "id": "f2996aa5",
   "metadata": {},
   "outputs": [
    {
     "name": "stdout",
     "output_type": "stream",
     "text": [
      "Enter First Number: 25\n",
      "Enter Second Number: 4\n",
      "The Product of 25 and 4 is 100\n"
     ]
    }
   ],
   "source": [
    "# Write a python code to multiply two numbers without using * and math library\n",
    "\n",
    "n1=int(input(\"Enter First Number: \"))\n",
    "n2=int(input(\"Enter Second Number: \"))\n",
    "product=0\n",
    "for i in range(n2):\n",
    "    product=product+n1\n",
    "print(\"The Product of {} and {} is {}\".format(n1,n2,product))"
   ]
  },
  {
   "cell_type": "code",
   "execution_count": 38,
   "id": "bbeaa784",
   "metadata": {},
   "outputs": [
    {
     "name": "stdout",
     "output_type": "stream",
     "text": [
      "Enter Multiple Numbers: 1,2,3,4,5\n",
      "[1, 2, 3, 4, 5]\n"
     ]
    }
   ],
   "source": [
    "# Take multiple inputs and append them to the list.\n",
    "\n",
    "t1=eval(input(\"Enter Multiple Numbers: \"))\n",
    "l1=[]\n",
    "for i in t1:\n",
    "    l1.append(i)\n",
    "print(l1)"
   ]
  },
  {
   "cell_type": "code",
   "execution_count": 64,
   "id": "b02be878",
   "metadata": {},
   "outputs": [
    {
     "name": "stdout",
     "output_type": "stream",
     "text": [
      "33 is a Prime number.\n"
     ]
    }
   ],
   "source": [
    "# Write code to create a class in python.\n",
    "\n",
    "class Prime():\n",
    "    def checkPrime(self,n1):\n",
    "        if n1>1:\n",
    "            for i in range(2,(n1//2)+1):\n",
    "                if n1%i==0:\n",
    "                    print(\"{} is Not a Prime Number.\".format(n1))\n",
    "                    break\n",
    "                else:\n",
    "                    print(\"{} is a Prime number.\".format(n1))\n",
    "                    break\n",
    "        else:\n",
    "            print(\"{} is Not a Prime Number\".format(n1))\n",
    "            \n",
    "\n",
    "obj1=Prime()\n",
    "obj1.checkPrime(33)"
   ]
  },
  {
   "cell_type": "code",
   "execution_count": 62,
   "id": "bd59ad02",
   "metadata": {},
   "outputs": [
    {
     "name": "stdout",
     "output_type": "stream",
     "text": [
      "33 is a Prime number.\n"
     ]
    }
   ],
   "source": [
    "# Write code to create a constructor in python.\n",
    "\n",
    "class Prime():\n",
    "    \n",
    "    def __init__(self,n1):\n",
    "        self.n1=n1\n",
    "    \n",
    "    def checkPrime(self):\n",
    "        n1=self.n1\n",
    "        if n1>1:\n",
    "            for i in range(2,(n1//2)+1):\n",
    "                if n1%i==0:\n",
    "                    print(\"{} is Not a Prime Number.\".format(n1))\n",
    "                    break\n",
    "                else:\n",
    "                    print(\"{} is a Prime number.\".format(n1))\n",
    "                    break\n",
    "        else:\n",
    "            print(\"{} is Not a Prime Number\".format(n1))\n",
    "            \n",
    "            \n",
    "obj1=Prime(33)\n",
    "obj1.checkPrime()"
   ]
  },
  {
   "cell_type": "code",
   "execution_count": 60,
   "id": "e271d61e",
   "metadata": {},
   "outputs": [
    {
     "name": "stdout",
     "output_type": "stream",
     "text": [
      "Aniket is present inside Aniket Khupte\n"
     ]
    }
   ],
   "source": [
    "# Find the substring inside the string without using the Built-in function.\n",
    "\n",
    "s1=\"Aniket Khupte\"\n",
    "s2=\"Aniket\"\n",
    "if s2 in s1:\n",
    "    print(\"{} is present inside {}\".format(s2,s1))\n",
    "else:\n",
    "    print(\"{} is Not present inside {}\".format(s2,s1))"
   ]
  },
  {
   "cell_type": "code",
   "execution_count": 6,
   "id": "ae786a13",
   "metadata": {},
   "outputs": [
    {
     "name": "stdout",
     "output_type": "stream",
     "text": [
      "[1, 4, 7]\n"
     ]
    }
   ],
   "source": [
    "# Extract the first element of that Nested List and from that output create a new List.\n",
    "\n",
    "l1=[[1,2,3],[4,5,6],[7,8,9]]\n",
    "l2=[x[0] for x in l1]\n",
    "print(l2)"
   ]
  },
  {
   "cell_type": "code",
   "execution_count": 9,
   "id": "23539a01",
   "metadata": {},
   "outputs": [
    {
     "name": "stdout",
     "output_type": "stream",
     "text": [
      "a is occured 1 times\n",
      "i is occured 1 times\n",
      "n is occured 1 times\n",
      "p is occured 1 times\n",
      "u is occured 1 times\n",
      "t is occured 2 times\n",
      "e is occured 2 times\n",
      "k is occured 2 times\n",
      "h is occured 1 times\n"
     ]
    }
   ],
   "source": [
    "# Find the maximum number of occurrences of each characters in a given String?\n",
    "\n",
    "s1=\"Aniket Khupte\"\n",
    "s1=s1.lower()\n",
    "s2=set(s1)\n",
    "for i in s2:\n",
    "    if i==\" \":\n",
    "        pass\n",
    "    else:\n",
    "        print(\"{} is occured {} times\".format(i,s1.count(i)))"
   ]
  },
  {
   "cell_type": "code",
   "execution_count": 48,
   "id": "7408f55b",
   "metadata": {},
   "outputs": [
    {
     "name": "stdout",
     "output_type": "stream",
     "text": [
      "The 's' character occures maximum times\n"
     ]
    }
   ],
   "source": [
    "# Find the character with maximum occurrences in a given String?\n",
    "\n",
    "s1=\"Its my life and my rules for sure\"\n",
    "s1=s1.lower()\n",
    "s2=set(s1)\n",
    "l1=[]\n",
    "for i in s2:\n",
    "    if i!=\" \":\n",
    "        l1.append(s1.count(i))\n",
    "max1=l1.index(max(l1))\n",
    "print(\"The '{}' character occures maximum times\".format(s1[max1]))"
   ]
  },
  {
   "cell_type": "code",
   "execution_count": 12,
   "id": "e08c9d4b",
   "metadata": {},
   "outputs": [
    {
     "name": "stdout",
     "output_type": "stream",
     "text": [
      "Aniket\n"
     ]
    }
   ],
   "source": [
    "# Write a code to remove all numeric characters from the AphaNumeric String.\n",
    "\n",
    "s1=\"Aniket29\"\n",
    "s2=\"\"\n",
    "for i in s1:\n",
    "    if i.isdigit():\n",
    "        pass\n",
    "    else:\n",
    "        s2+=i\n",
    "print(s2)"
   ]
  },
  {
   "cell_type": "code",
   "execution_count": 16,
   "id": "8800cca8",
   "metadata": {},
   "outputs": [
    {
     "name": "stdout",
     "output_type": "stream",
     "text": [
      "Non-unique characters in 'aniket khupte' are 'tek'\n"
     ]
    }
   ],
   "source": [
    "# Remove all unique characters from the string.\n",
    "\n",
    "s1=\"ANiket Khupte\"\n",
    "s1=s1.lower()\n",
    "s2=set(s1)\n",
    "s3=\"\"\n",
    "for i in s2:\n",
    "    if s1.count(i)==1:\n",
    "        pass\n",
    "    else:\n",
    "        s3+=i\n",
    "print(\"Non-unique characters in '{}' are '{}'\".format(s1,s3))"
   ]
  },
  {
   "cell_type": "code",
   "execution_count": 18,
   "id": "941db1e1",
   "metadata": {},
   "outputs": [
    {
     "name": "stdout",
     "output_type": "stream",
     "text": [
      "The Duplicate characters in 'aniket khupte' are 'tek'\n"
     ]
    }
   ],
   "source": [
    "# Find all duplicate characters from a string?\n",
    "\n",
    "s1=\"Aniket Khupte\"\n",
    "s1=s1.lower()\n",
    "s2=set(s1)\n",
    "s3=\"\"\n",
    "for i in s2:\n",
    "    if s1.count(i)>1:\n",
    "        s3+=i\n",
    "print(\"The Duplicate characters in '{}' are '{}'\".format(s1,s3))"
   ]
  },
  {
   "cell_type": "code",
   "execution_count": 36,
   "id": "adeec9d5",
   "metadata": {},
   "outputs": [
    {
     "name": "stdout",
     "output_type": "stream",
     "text": [
      "s1 is subset of l1\n"
     ]
    }
   ],
   "source": [
    "# Check whether the given list is subset of main list\n",
    "\n",
    "def checkList(l1,s1):\n",
    "    for i in s1:\n",
    "        if i in l1:\n",
    "            pass\n",
    "        else:\n",
    "            return \"s1 is not subset of l1\"\n",
    "    return \"s1 is subset of l1\"\n",
    "\n",
    "\n",
    "\n",
    "\n",
    "l1=[1,2,3,4,5,6,7,8,9]\n",
    "s1=[2,3,4,5,7]\n",
    "print(checkList(l1,s1))"
   ]
  },
  {
   "cell_type": "code",
   "execution_count": 37,
   "id": "61a32863",
   "metadata": {},
   "outputs": [
    {
     "name": "stdout",
     "output_type": "stream",
     "text": [
      "abcabc\n",
      "The Longest String is abc and Its length is 3\n"
     ]
    }
   ],
   "source": [
    "# s1=\"abc abc bb\"\n",
    "# Find the longest substring and print their length\n",
    "# If there are substrings whose lengths are same then print them twise.\n",
    "# Avoid diplicate substring\n",
    "\n",
    "s1=\"abc abd bb bd\"\n",
    "l1=[]\n",
    "l2=[]\n",
    "l1=s1.split()\n",
    "for i in l1:\n",
    "    l2.append(len(i))\n",
    "\n",
    "for i in range(len(l2)):\n",
    "    for j in range(len(l2)-1):\n",
    "        if l2[j]==l2[j+1] and l1[j]!=l1[j+1]:\n",
    "            print(l1[l2.index(l2[j])]*2)\n",
    "            break\n",
    "    break\n",
    "            \n",
    "i=l2.index(max(l2))\n",
    "print(\"The Longest String is {} and Its length is {}\".format(l1[i],len(l1[i])))        "
   ]
  },
  {
   "cell_type": "code",
   "execution_count": 38,
   "id": "5622e1d7",
   "metadata": {},
   "outputs": [
    {
     "name": "stdout",
     "output_type": "stream",
     "text": [
      "lol is Palindrome Word.\n",
      "non is Palindrome Word\n",
      "mam is Palindrome Word.\n"
     ]
    }
   ],
   "source": [
    "# s1=\"Lol, this was hilarious joke mam.\"\n",
    "# Find the Palindrome word from the above string\n",
    "\n",
    "s1=\"Lol, this was non hilarious joke mam.\"\n",
    "l1=[]\n",
    "l1=s1.split()\n",
    "l1=[x.lower() for x in l1]\n",
    "\n",
    "for i in l1:\n",
    "    if ord(i[-1]) in range(97,123) and i==i[::-1]:\n",
    "        print(\"{} is Palindrome Word\".format(i))\n",
    "    else:\n",
    "        s2=\"\"\n",
    "        s2=i[:-1]\n",
    "        if s2==s2[::-1]:\n",
    "            print(\"{} is Palindrome Word.\".format(s2))"
   ]
  },
  {
   "cell_type": "code",
   "execution_count": 39,
   "id": "7859573c",
   "metadata": {},
   "outputs": [
    {
     "name": "stdout",
     "output_type": "stream",
     "text": [
      "Reverse String= tekinA\n",
      "Reverse String= tekinA\n",
      "Reverse String= tekinA\n"
     ]
    }
   ],
   "source": [
    "# How to reverse a string in multiple ways?\n",
    "\n",
    "# Method 1:\n",
    "s1=\"Aniket\"\n",
    "print(\"Reverse String=\",s1[::-1])\n",
    "\n",
    "# Method 2:\n",
    "s1=\"Aniket\"\n",
    "s2=\"\"\n",
    "for i in range(len(s1)):\n",
    "    s2+=s1[(len(s1)-1)-i]\n",
    "print(\"Reverse String=\",s2)\n",
    "\n",
    "# Method 3:\n",
    "s1=\"Aniket\"\n",
    "s2=\"\"\n",
    "for i in s1:\n",
    "    s2=i+s2\n",
    "print(\"Reverse String=\",s2)"
   ]
  },
  {
   "cell_type": "code",
   "execution_count": 1,
   "id": "d371ff1d",
   "metadata": {},
   "outputs": [
    {
     "name": "stdout",
     "output_type": "stream",
     "text": [
      "4 is present at 2 position\n"
     ]
    }
   ],
   "source": [
    "def binary_search(arr,x):\n",
    "    low=0\n",
    "    high=len(arr)-1\n",
    "    mid=0\n",
    "    \n",
    "    while low<=high:\n",
    "        mid=(low+high)//2\n",
    "        if arr[mid]<x:\n",
    "            low=mid+1\n",
    "        elif arr[mid]>x:\n",
    "            high=mid-1\n",
    "        else:\n",
    "            return mid\n",
    "    return -1\n",
    "\n",
    "arr=[2,3,4,5,6,4]\n",
    "x=4\n",
    "res=binary_search(arr,x)\n",
    "if res!=-1:\n",
    "    print(\"{} is present at {} position\".format(x,res))\n",
    "else:\n",
    "    print(\"Element not found\")"
   ]
  }
 ],
 "metadata": {
  "kernelspec": {
   "display_name": "Python 3 (ipykernel)",
   "language": "python",
   "name": "python3"
  },
  "language_info": {
   "codemirror_mode": {
    "name": "ipython",
    "version": 3
   },
   "file_extension": ".py",
   "mimetype": "text/x-python",
   "name": "python",
   "nbconvert_exporter": "python",
   "pygments_lexer": "ipython3",
   "version": "3.9.12"
  }
 },
 "nbformat": 4,
 "nbformat_minor": 5
}
